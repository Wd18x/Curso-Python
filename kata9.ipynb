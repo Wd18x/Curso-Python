{
 "cells": [
  {
   "cell_type": "markdown",
   "metadata": {},
   "source": [
    "# Ejercicio: Uso de funciones en Python\n",
    "Ejercicio 1: Trabajar con argumentos en funciones"
   ]
  },
  {
   "cell_type": "code",
   "execution_count": null,
   "metadata": {},
   "outputs": [],
   "source": [
    "#Función para leer 3 tanques de combustible y muestre el promedio\n",
    "def generate_report(tanque_principal, tanque_externo, tanque_hidrogeno):\n",
    "    total_average = (tanque_principal + tanque_externo + tanque_hidrogeno) / 3\n",
    "    return f\"\"\"Informe de combustible:\n",
    "    Promedio total: {total_average}%\n",
    "    Tanque principal: {tanque_principal}%\n",
    "    Tanque  externo: {tanque_externo}%\n",
    "    Tanque hidrogeno: {tanque_hidrogeno}% \"\"\"\n",
    "    # Llamamos a la función que genera el reporte print(funcion(tanque1, tanque2, tanque3))\n",
    "\n",
    "print(generate_report(80, 70, 85))\n",
    "\n",
    "# Función promedio\n",
    "def average(values):\n",
    "    total = sum(values)\n",
    "    number_of_items = len(values)\n",
    "    return total / number_of_items\n",
    "\n",
    "# Test the averaging function with a list of integers:\n",
    "average([80, 85, 81])\n",
    "# Actualiza la función\n",
    "def generate_report(tanque_principal, tanque_externo, tanque_hidrogeno):\n",
    "    return f\"\"\"Informe de combustible:\n",
    "    Promedio total: {average([tanque_principal, tanque_externo, tanque_hidrogeno])}%\n",
    "    Tanque principal: {tanque_principal}%\n",
    "    Tanque externo: {tanque_externo}%\n",
    "    Tanque hidrogeno: {tanque_hidrogeno}% \"\"\"\n",
    "# Vuelva a llamar a la función de actualización con valores diferentes\n",
    "print(generate_report(88, 76, 70))"
   ]
  },
  {
   "cell_type": "markdown",
   "metadata": {},
   "source": [
    "# Ejercicio 2: Trabajo con argumentos de palabra clave\n",
    "Ejercicio : Trabajar con argumentos de palabras clave en funciones"
   ]
  },
  {
   "cell_type": "code",
   "execution_count": 1,
   "metadata": {},
   "outputs": [
    {
     "name": "stdout",
     "output_type": "stream",
     "text": [
      "\n",
      "    Mision a Moon\n",
      "    Tiempo total del viaje: 65 minutes\n",
      "    Combustible total restante: 500000 gallons \n",
      "\n",
      "    Mision a  Moon\n",
      "    Tiempo total del viaje: 76 minutes\n",
      "    Combustible total restante: 500000 \n",
      "\n",
      "    Mision a Moon\n",
      "    Tiempo total del viaje: 74 minutes\n",
      "    Combustible total restante: 500000main tank --> 300000 gallons left\n",
      "external tank --> 200000 gallons left\n",
      "\n"
     ]
    }
   ],
   "source": [
    "#Función con un informe preciso de la misión. Considera hora de prelanzamiento, tiempo de vuelo, destino, tanque externo y tanque interno\n",
    "\n",
    "def mission_report(pre_launch_time, flight_time, destination, external_tank, main_tank):\n",
    "    return f\"\"\"\n",
    "    Mision a {destination}\n",
    "    Tiempo total del viaje: {pre_launch_time + flight_time} minutes\n",
    "    Combustible total restante: {external_tank + main_tank} gallons \"\"\"\n",
    "\n",
    "print(mission_report(14, 51, \"Moon\", 200000, 300000))\n",
    "\n",
    "# Escribe tu nueva función de reporte considerando lo anterior\n",
    "def mission_report(destination, *minutes, **fuel_reservoirs):\n",
    "    return f\"\"\"\n",
    "    Mision a  {destination}\n",
    "    Tiempo total del viaje: {sum(minutes)} minutes\n",
    "    Combustible total restante: {sum(fuel_reservoirs.values())} \"\"\"\n",
    "\n",
    "print(mission_report(\"Moon\", 10, 15, 51, main=300000, external=200000))\n",
    "# Escribe tu nueva función\n",
    "def mission_report(destination, *minutes, **fuel_reservoirs):\n",
    "    main_report = f\"\"\"\n",
    "    Mision a {destination}\n",
    "    Tiempo total del viaje: {sum(minutes)} minutes\n",
    "    Combustible total restante: {sum(fuel_reservoirs.values())}\"\"\"\n",
    "\n",
    "    for tank_name, gallons in fuel_reservoirs.items():\n",
    "        main_report += f\"{tank_name} tank --> {gallons} gallons left\\n\"\n",
    "    return main_report\n",
    "print(mission_report(\"Moon\", 8, 11, 55, main=300000, external=200000))"
   ]
  }
 ],
 "metadata": {
  "interpreter": {
   "hash": "9c083b4fd7c6f5d3b9e029759bb8ad24fa0c1e52a3295038a0140f324178af72"
  },
  "kernelspec": {
   "display_name": "Python 3.10.2 ('env': venv)",
   "language": "python",
   "name": "python3"
  },
  "language_info": {
   "codemirror_mode": {
    "name": "ipython",
    "version": 3
   },
   "file_extension": ".py",
   "mimetype": "text/x-python",
   "name": "python",
   "nbconvert_exporter": "python",
   "pygments_lexer": "ipython3",
   "version": "3.10.2"
  },
  "orig_nbformat": 4
 },
 "nbformat": 4,
 "nbformat_minor": 2
}
