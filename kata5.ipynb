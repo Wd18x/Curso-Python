{
 "cells": [
  {
   "cell_type": "markdown",
   "metadata": {},
   "source": [
    "# Ejercicio1 - Utilizar operadores aritméticos"
   ]
  },
  {
   "cell_type": "code",
   "execution_count": 11,
   "metadata": {},
   "outputs": [
    {
     "name": "stdout",
     "output_type": "stream",
     "text": [
      "Distancia en kilometros: 628949330 \n",
      "Distancia en Millas: 390577533.93\n"
     ]
    }
   ],
   "source": [
    "Tierra = 149597870\n",
    "Jupiter = 778547200\n",
    "\n",
    "Distancia = Jupiter - Tierra\n",
    "KaM = Distancia * 0.621\n",
    "\n",
    "print(f'Distancia en kilometros: {Distancia} \\nDistancia en Millas: {KaM}')\n"
   ]
  },
  {
   "cell_type": "markdown",
   "metadata": {},
   "source": [
    "## Ejercicio 2: convierte cadenas en números y usa valores absolutos"
   ]
  },
  {
   "cell_type": "code",
   "execution_count": 19,
   "metadata": {},
   "outputs": [
    {
     "name": "stdout",
     "output_type": "stream",
     "text": [
      "-2000090900\n",
      "1242056448.9\n"
     ]
    }
   ],
   "source": [
    "Planeta1 = input(\"Distancia de planeta 1\")\n",
    "Planeta2 = input(\"Distancia de planeta 2\")\n",
    "\n",
    "Planeta1 = int(Planeta1)\n",
    "Planeta2 = int(Planeta2)\n",
    "\n",
    "# Realizar el cálculo y determinar el valor absoluto\n",
    "DistanciaKm = Planeta2 - Planeta1\n",
    "print(DistanciaKm)\n",
    "\n",
    "# Convertir de KM a Millas\n",
    "DistanciaMilla = DistanciaKm * 0.621\n",
    "print(abs(DistanciaMilla))\n"
   ]
  }
 ],
 "metadata": {
  "interpreter": {
   "hash": "9c083b4fd7c6f5d3b9e029759bb8ad24fa0c1e52a3295038a0140f324178af72"
  },
  "kernelspec": {
   "display_name": "Python 3.10.2 ('env': venv)",
   "language": "python",
   "name": "python3"
  },
  "language_info": {
   "codemirror_mode": {
    "name": "ipython",
    "version": 3
   },
   "file_extension": ".py",
   "mimetype": "text/x-python",
   "name": "python",
   "nbconvert_exporter": "python",
   "pygments_lexer": "ipython3",
   "version": "3.10.2"
  },
  "orig_nbformat": 4
 },
 "nbformat": 4,
 "nbformat_minor": 2
}
